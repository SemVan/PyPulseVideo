{
 "cells": [
  {
   "cell_type": "code",
   "execution_count": 7,
   "metadata": {},
   "outputs": [],
   "source": [
    "import cv2\n",
    "\n",
    "VIDEO_EDITED_NAME = './Edited/semchuk_high_illumination_close_edited.avi'\n",
    "\n",
    "\n",
    "def read_edited_video(video):\n",
    "    \n",
    "    # Read source video\n",
    "    cap = cv2.VideoCapture(video)\n",
    "    if not(cap.isOpened()):\n",
    "        print(\"video did not open (/Edited/..)\")\n",
    "        return []\n",
    "    frames = int(cap.get(cv2.CAP_PROP_FRAME_COUNT))\n",
    "    print('video length, frames')\n",
    "    print(frames)\n",
    "    \n",
    "    # Get frame size\n",
    "    ret, img = cap.read()\n",
    "    height,width,channels = img.shape\n",
    "    print('Размеры кадра')\n",
    "    print(width)\n",
    "    print(height)\n",
    "    print('Число каналов')\n",
    "    print(channels)\n",
    "\n",
    "    frame_number = 0\n",
    "\n",
    "    while (cap.isOpened() and frame_number<frames):\n",
    "        ret, img = cap.read()\n",
    "        if ret == False:\n",
    "            break\n",
    "        frame_number += 1\n",
    "        cv2.imshow(\"Segmented\",img)\n",
    "        cv2.waitKey(0)\n",
    "    cap.release()\n",
    "    return"
   ]
  },
  {
   "cell_type": "code",
   "execution_count": null,
   "metadata": {},
   "outputs": [
    {
     "name": "stdout",
     "output_type": "stream",
     "text": [
      "video length, frames\n",
      "963\n",
      "Размеры кадра\n",
      "640\n",
      "480\n",
      "Число каналов\n",
      "3\n"
     ]
    }
   ],
   "source": [
    "read_edited_video(VIDEO_EDITED_NAME)"
   ]
  },
  {
   "cell_type": "code",
   "execution_count": null,
   "metadata": {},
   "outputs": [],
   "source": []
  }
 ],
 "metadata": {
  "kernelspec": {
   "display_name": "Python 3",
   "language": "python",
   "name": "python3"
  },
  "language_info": {
   "codemirror_mode": {
    "name": "ipython",
    "version": 3
   },
   "file_extension": ".py",
   "mimetype": "text/x-python",
   "name": "python",
   "nbconvert_exporter": "python",
   "pygments_lexer": "ipython3",
   "version": "3.7.3"
  }
 },
 "nbformat": 4,
 "nbformat_minor": 2
}
