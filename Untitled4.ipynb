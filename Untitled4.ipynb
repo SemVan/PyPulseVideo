{
 "cells": [
  {
   "cell_type": "code",
   "execution_count": 60,
   "metadata": {},
   "outputs": [
    {
     "name": "stdout",
     "output_type": "stream",
     "text": [
      "[255   0  40 255]\n"
     ]
    }
   ],
   "source": [
    "import numpy as np\n",
    "import matplotlib.pyplot as plt\n",
    "\n",
    "\n",
    "def get_color_gradients(cmap_name, input):\n",
    "\n",
    "    cmap=plt.get_cmap(cmap_name)\n",
    "    col = cmap(input)\n",
    "    color = np.uint8(np.array(col)*255)\n",
    "    return(color)\n",
    "\n",
    "output = get_color_gradients('gist_rainbow', 0)\n",
    "print(output)"
   ]
  },
  {
   "cell_type": "code",
   "execution_count": 1,
   "metadata": {},
   "outputs": [
    {
     "name": "stdout",
     "output_type": "stream",
     "text": [
      "./Segmented/Signals/Andreeva_1_27.04.19\n",
      "Предельные значения SNR\n",
      "0.02420644192844875\n",
      "-0.013260922995514889\n"
     ]
    },
    {
     "name": "stderr",
     "output_type": "stream",
     "text": [
      "C:\\Users\\Константин\\pyPulseVideo\\PyPulseVideo\\segvideo_creator.py:162: RuntimeWarning: overflow encountered in ubyte_scalars\n",
      "  counter += np.uint8(1)\n"
     ]
    },
    {
     "name": "stdout",
     "output_type": "stream",
     "text": [
      "Оси сегментирующей сетки\n",
      "10\n",
      "7\n",
      "Число кадров\n",
      "769\n",
      "Размеры кадра\n",
      "640\n",
      "480\n",
      "Число каналов\n",
      "3\n",
      "18.325048208236694\n",
      "./Segmented/Signals/Chepik_1_27.04.10\n",
      "Предельные значения SNR\n",
      "0.030662875468649202\n",
      "-0.012630850547647648\n",
      "Оси сегментирующей сетки\n",
      "10\n",
      "7\n",
      "Число кадров\n",
      "769\n",
      "Размеры кадра\n",
      "640\n",
      "480\n",
      "Число каналов\n",
      "3\n",
      "17.30398988723755\n",
      "./Segmented/Signals/Fomenko_1_27.04.19\n",
      "Предельные значения SNR\n",
      "nan\n",
      "nan\n",
      "Оси сегментирующей сетки\n",
      "10\n",
      "7\n",
      "Число кадров\n",
      "771\n",
      "Размеры кадра\n",
      "640\n",
      "480\n",
      "Число каналов\n",
      "3\n"
     ]
    },
    {
     "name": "stderr",
     "output_type": "stream",
     "text": [
      "C:\\Conda\\lib\\site-packages\\matplotlib\\colors.py:512: RuntimeWarning: invalid value encountered in less\n",
      "  xa[xa < 0] = -1\n"
     ]
    },
    {
     "name": "stdout",
     "output_type": "stream",
     "text": [
      "16.255929470062256\n"
     ]
    }
   ],
   "source": [
    "import full_segmented_video_creator"
   ]
  },
  {
   "cell_type": "code",
   "execution_count": null,
   "metadata": {},
   "outputs": [],
   "source": []
  }
 ],
 "metadata": {
  "kernelspec": {
   "display_name": "Python 3",
   "language": "python",
   "name": "python3"
  },
  "language_info": {
   "codemirror_mode": {
    "name": "ipython",
    "version": 3
   },
   "file_extension": ".py",
   "mimetype": "text/x-python",
   "name": "python",
   "nbconvert_exporter": "python",
   "pygments_lexer": "ipython3",
   "version": "3.7.3"
  }
 },
 "nbformat": 4,
 "nbformat_minor": 2
}
