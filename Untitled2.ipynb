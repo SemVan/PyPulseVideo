{
 "cells": [
  {
   "cell_type": "code",
   "execution_count": 1,
   "metadata": {},
   "outputs": [
    {
     "name": "stdout",
     "output_type": "stream",
     "text": [
      "./Segmented/Signals/Andreeva_1_27.04.19\n"
     ]
    },
    {
     "name": "stderr",
     "output_type": "stream",
     "text": [
      "C:\\Users\\Константин\\pyPulseVideo\\PyPulseVideo\\segvideo_creator.py:132: RuntimeWarning: overflow encountered in ubyte_scalars\n",
      "  counter += np.uint8(1)\n"
     ]
    },
    {
     "name": "stdout",
     "output_type": "stream",
     "text": [
      "10\n",
      "7\n",
      "769\n",
      "640\n",
      "480\n",
      "3\n",
      "18.157038688659668\n",
      "./Segmented/Signals/Chepik_1_27.04.10\n",
      "10\n",
      "7\n",
      "769\n",
      "640\n",
      "480\n",
      "3\n",
      "17.73501443862915\n"
     ]
    }
   ],
   "source": [
    "import full_segmented_video_creator"
   ]
  },
  {
   "cell_type": "code",
   "execution_count": 7,
   "metadata": {},
   "outputs": [
    {
     "name": "stderr",
     "output_type": "stream",
     "text": [
      "C:\\Conda\\lib\\site-packages\\ipykernel_launcher.py:2: RuntimeWarning: overflow encountered in ubyte_scalars\n",
      "  \n"
     ]
    },
    {
     "data": {
      "text/plain": [
       "0"
      ]
     },
     "execution_count": 7,
     "metadata": {},
     "output_type": "execute_result"
    }
   ],
   "source": [
    "import numpy as np\n",
    "np.uint8(255)+np.uint8(1)"
   ]
  },
  {
   "cell_type": "code",
   "execution_count": null,
   "metadata": {},
   "outputs": [],
   "source": []
  }
 ],
 "metadata": {
  "kernelspec": {
   "display_name": "Python 3",
   "language": "python",
   "name": "python3"
  },
  "language_info": {
   "codemirror_mode": {
    "name": "ipython",
    "version": 3
   },
   "file_extension": ".py",
   "mimetype": "text/x-python",
   "name": "python",
   "nbconvert_exporter": "python",
   "pygments_lexer": "ipython3",
   "version": "3.7.3"
  }
 },
 "nbformat": 4,
 "nbformat_minor": 2
}
