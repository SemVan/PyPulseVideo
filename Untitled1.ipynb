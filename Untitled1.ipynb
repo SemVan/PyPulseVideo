{
 "cells": [
  {
   "cell_type": "code",
   "execution_count": 1,
   "metadata": {},
   "outputs": [
    {
     "name": "stdout",
     "output_type": "stream",
     "text": [
      "./Segmented/Signals/Andreeva_1_27.04.19\n",
      "10\n",
      "7\n",
      "769\n",
      "640\n",
      "480\n",
      "3\n",
      "18.235043048858643\n",
      "./Segmented/Signals/Chepik_1_27.04.10\n",
      "10\n",
      "7\n",
      "769\n",
      "640\n",
      "480\n",
      "3\n",
      "17.12797975540161\n"
     ]
    }
   ],
   "source": [
    "import full_segmented_video_creator"
   ]
  },
  {
   "cell_type": "code",
   "execution_count": null,
   "metadata": {},
   "outputs": [],
   "source": []
  }
 ],
 "metadata": {
  "kernelspec": {
   "display_name": "Python 3",
   "language": "python",
   "name": "python3"
  },
  "language_info": {
   "codemirror_mode": {
    "name": "ipython",
    "version": 3
   },
   "file_extension": ".py",
   "mimetype": "text/x-python",
   "name": "python",
   "nbconvert_exporter": "python",
   "pygments_lexer": "ipython3",
   "version": "3.7.3"
  }
 },
 "nbformat": 4,
 "nbformat_minor": 2
}
